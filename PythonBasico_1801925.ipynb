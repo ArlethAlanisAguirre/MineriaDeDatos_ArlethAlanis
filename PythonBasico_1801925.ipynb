{
 "cells": [
  {
   "cell_type": "markdown",
   "metadata": {},
   "source": [
    "**Ejemplo**"
   ]
  },
  {
   "cell_type": "code",
   "execution_count": 1,
   "metadata": {},
   "outputs": [
    {
     "name": "stdout",
     "output_type": "stream",
     "text": [
      "!Hola mundo!\n"
     ]
    }
   ],
   "source": [
    "print(\"!Hola mundo!\")"
   ]
  },
  {
   "cell_type": "markdown",
   "metadata": {},
   "source": [
    "**Ejercicio 1**\n",
    "\n",
    "Realiza una variable con tu matricula y realiza una secuencia de imprimir con tu nombre y tu matricula concatenados."
   ]
  },
  {
   "cell_type": "code",
   "execution_count": 2,
   "metadata": {},
   "outputs": [
    {
     "name": "stdout",
     "output_type": "stream",
     "text": [
      "1801925 Arleth Alanis Aguirre\n"
     ]
    }
   ],
   "source": [
    "m=\"1801925\"\n",
    "n= \"Arleth Alanis Aguirre\"\n",
    "print(m,n)"
   ]
  },
  {
   "cell_type": "markdown",
   "metadata": {},
   "source": [
    "**Ejercicio 2**\n",
    "\n",
    "Pidiendo el input del usuario pide dos números y crea una pequeña calculadora con los operadores básicos de suma, resta, multiplicación, división, y exponente.\n",
    "\n",
    "Utilizando el loop de while"
   ]
  },
  {
   "cell_type": "code",
   "execution_count": 13,
   "metadata": {},
   "outputs": [
    {
     "name": "stdout",
     "output_type": "stream",
     "text": [
      "Hola, por favor realiza lo que se pide a continuación:\n",
      "Introduce número 'a': 2\n",
      "Introduce número 'b': 3\n",
      "\n",
      "1. Suma\n",
      "2.Resta\n",
      "3.Multiplicación\n",
      "4.División\n",
      "5.Exponencial\n",
      "6.Salir\n",
      "Elige la operación que quieres realizar 'c':2\n",
      "-1\n",
      "\n",
      "1. Suma\n",
      "2.Resta\n",
      "3.Multiplicación\n",
      "4.División\n",
      "5.Exponencial\n",
      "6.Salir\n",
      "Elige la operación que quieres realizar 'c':2\n",
      "-1\n",
      "\n",
      "1. Suma\n",
      "2.Resta\n",
      "3.Multiplicación\n",
      "4.División\n",
      "5.Exponencial\n",
      "6.Salir\n",
      "Elige la operación que quieres realizar 'c':2\n",
      "-1\n",
      "\n",
      "1. Suma\n",
      "2.Resta\n",
      "3.Multiplicación\n",
      "4.División\n",
      "5.Exponencial\n",
      "6.Salir\n",
      "Elige la operación que quieres realizar 'c':5\n",
      "8\n",
      "\n",
      "1. Suma\n",
      "2.Resta\n",
      "3.Multiplicación\n",
      "4.División\n",
      "5.Exponencial\n",
      "6.Salir\n",
      "Elige la operación que quieres realizar 'c':1\n",
      "5\n",
      "\n",
      "1. Suma\n",
      "2.Resta\n",
      "3.Multiplicación\n",
      "4.División\n",
      "5.Exponencial\n",
      "6.Salir\n",
      "Elige la operación que quieres realizar 'c':6\n"
     ]
    }
   ],
   "source": [
    "print(\"Hola, por favor realiza lo que se pide a continuación:\")\n",
    "a = float(input(\"Introduce número 'a': \"))\n",
    "b = float(input(\"Introduce número 'b': \"))\n",
    "c = 1\n",
    "while c!=6:\n",
    "    c = int(input(\"\\n1. Suma\\n2.Resta\\n3.Multiplicación\\n4.División\\n5.Exponencial\\n6.Salir\\nElige la operación que quieres realizar 'c':\"))\n",
    "    if c == 1 :\n",
    "        print(a+b)\n",
    "    if c == 2 :\n",
    "        print (a-b)\n",
    "    if c == 3 :\n",
    "        print (a*b)\n",
    "    if c == 4 :\n",
    "        print (a/b)\n",
    "    if c == 5 :\n",
    "        print (a**b)\n",
    "        "
   ]
  },
  {
   "cell_type": "markdown",
   "metadata": {},
   "source": [
    "**Ejercicio 3**\n",
    "\n",
    "Con loop while o for, realiza una lista de 10 numeros multiplos de 3, y después realiza una función de loop que sume todos los números dentro del arreglo."
   ]
  },
  {
   "cell_type": "code",
   "execution_count": 14,
   "metadata": {},
   "outputs": [
    {
     "name": "stdout",
     "output_type": "stream",
     "text": [
      "3\n",
      "6\n",
      "9\n",
      "12\n",
      "15\n",
      "18\n",
      "21\n",
      "24\n",
      "27\n",
      "30\n",
      "La suma de la lista:  165\n"
     ]
    }
   ],
   "source": [
    "s=0\n",
    "lista = []\n",
    "for i in range(1,11):\n",
    "    lista.append((i*3))\n",
    "    s= s + (lista[i-1])\n",
    "    print(lista[i-1])\n",
    "    \n",
    "print (\"La suma de la lista: \" ,s)  \n"
   ]
  },
  {
   "cell_type": "markdown",
   "metadata": {},
   "source": [
    "**Ejercicio 4**\n",
    "\n",
    "Con una función de if else, revisar si un número es par o es impar.\n",
    "Con una función de if else, revisar si un número es primo o no."
   ]
  },
  {
   "cell_type": "code",
   "execution_count": 21,
   "metadata": {},
   "outputs": [
    {
     "name": "stdout",
     "output_type": "stream",
     "text": [
      "Dame un número: 'n': 2\n",
      "Es par\n",
      "Es primo\n"
     ]
    }
   ],
   "source": [
    "n= int(input(\"Dame un número: 'n': \"))\n",
    "if n%2==0:\n",
    "    print (\"Es par\")\n",
    "else:\n",
    "    print (\"Es impar\")\n",
    " \n",
    "c=0\n",
    "for i in range(1, n+1):\n",
    "    if n%i==0:\n",
    "        c=c+1\n",
    "if c==2:\n",
    "    print (\"Es primo\")\n",
    "else:\n",
    "    print (\"No es primo\")\n",
    "    \n",
    "    \n",
    "       "
   ]
  },
  {
   "cell_type": "markdown",
   "metadata": {},
   "source": [
    "**Ejercicio 5**\n",
    "\n",
    "Utilizando diferentes clases en python, crea una calculadora con los operadores básicos de suma, resta, multiplicación, división, y exponente."
   ]
  },
  {
   "cell_type": "code",
   "execution_count": 22,
   "metadata": {},
   "outputs": [
    {
     "name": "stdout",
     "output_type": "stream",
     "text": [
      "Hola, por favor realiza lo que se pide a continuación:\n",
      "Introduce número 'a': 2\n",
      "Introduce número 'b': 3\n",
      "\n",
      "1. Suma\n",
      "2.Resta\n",
      "3.Multiplicación\n",
      "4.División\n",
      "5.Exponencial\n",
      "6.Salir\n",
      "Elige la operación que quieres realizar 'c':1\n",
      "5\n",
      "\n",
      "1. Suma\n",
      "2.Resta\n",
      "3.Multiplicación\n",
      "4.División\n",
      "5.Exponencial\n",
      "6.Salir\n",
      "Elige la operación que quieres realizar 'c':2\n",
      "-1\n",
      "\n",
      "1. Suma\n",
      "2.Resta\n",
      "3.Multiplicación\n",
      "4.División\n",
      "5.Exponencial\n",
      "6.Salir\n",
      "Elige la operación que quieres realizar 'c':3\n",
      "6\n",
      "\n",
      "1. Suma\n",
      "2.Resta\n",
      "3.Multiplicación\n",
      "4.División\n",
      "5.Exponencial\n",
      "6.Salir\n",
      "Elige la operación que quieres realizar 'c':4\n",
      "0.6666666666666666\n",
      "\n",
      "1. Suma\n",
      "2.Resta\n",
      "3.Multiplicación\n",
      "4.División\n",
      "5.Exponencial\n",
      "6.Salir\n",
      "Elige la operación que quieres realizar 'c':5\n",
      "8\n",
      "\n",
      "1. Suma\n",
      "2.Resta\n",
      "3.Multiplicación\n",
      "4.División\n",
      "5.Exponencial\n",
      "6.Salir\n",
      "Elige la operación que quieres realizar 'c':6\n"
     ]
    }
   ],
   "source": [
    "#https://entrenamiento-python-basico.readthedocs.io/es/latest/leccion5/funciones.html\n",
    "def s(a,b): \n",
    "    return a+b\n",
    "def r (a,b):\n",
    "    return a-b\n",
    "def m(a,b):\n",
    "    return a*b\n",
    "def d(a,b):\n",
    "    return a/b\n",
    "def e(a,b):\n",
    "    return a**b\n",
    "\n",
    "print(\"Hola, por favor realiza lo que se pide a continuación:\")\n",
    "a = float(input(\"Introduce número 'a': \"))\n",
    "b = float(input(\"Introduce número 'b': \"))\n",
    "c = 1\n",
    "while c!=6:\n",
    "    c = int(input(\"\\n1. Suma\\n2.Resta\\n3.Multiplicación\\n4.División\\n5.Exponencial\\n6.Salir\\nElige la operación que quieres realizar 'c':\"))\n",
    "    if c == 1 :\n",
    "        print (s(a,b))\n",
    "    if c == 2 :\n",
    "        print (r(a,b))\n",
    "    if c == 3 :\n",
    "        print (m(a,b))\n",
    "    if c == 4 :\n",
    "        print (d(a,b))\n",
    "    if c == 5 :\n",
    "        print (e(a,b))"
   ]
  },
  {
   "cell_type": "markdown",
   "metadata": {},
   "source": [
    "\n",
    "**Ejercicio 6 Tuplas**\n",
    "\n",
    "Crear una variable flotante, integer, boleana y compleja e imprimir el tipo de variable que es.\n",
    "\n",
    "Crear una tupla con valores enteros imprimir el primer y ultimo valor.\n",
    "\n",
    "Añadir 3 valores de string a la tupla.\n",
    "\n",
    "Verificar si una variable existe dentro de la tupla."
   ]
  },
  {
   "cell_type": "code",
   "execution_count": 23,
   "metadata": {},
   "outputs": [
    {
     "name": "stdout",
     "output_type": "stream",
     "text": [
      "<class 'float'>\n",
      "<class 'int'>\n",
      "<class 'bool'>\n",
      "<class 'complex'>\n"
     ]
    }
   ],
   "source": [
    "flotante = 7.7\n",
    "entero = 6\n",
    "boleana = True\n",
    "compleja = 3j+2\n",
    "\n",
    "print(type(flotante))\n",
    "print(type(entero))\n",
    "print(type(boleana))\n",
    "print(type(compleja))\n"
   ]
  },
  {
   "cell_type": "code",
   "execution_count": 24,
   "metadata": {},
   "outputs": [
    {
     "name": "stdout",
     "output_type": "stream",
     "text": [
      "7 35\n"
     ]
    }
   ],
   "source": [
    "#https://plataformeros.wordpress.com/2018/10/10/los-comandos-mas-basicos-de-python/\n",
    "tupla=(7,14,21,28,35)\n",
    "print (tupla[0],tupla[len(tupla)-1])"
   ]
  },
  {
   "cell_type": "code",
   "execution_count": 25,
   "metadata": {},
   "outputs": [
    {
     "name": "stdout",
     "output_type": "stream",
     "text": [
      "(7, 14, 21, 28, 35, 'hola', 'soy', 'Arleth')\n"
     ]
    }
   ],
   "source": [
    "tupla=(7,14,21,28,35)\n",
    "tupla=tupla+(\"hola\", \"soy\", \"Arleth\")\n",
    "print(tupla)"
   ]
  },
  {
   "cell_type": "code",
   "execution_count": 27,
   "metadata": {},
   "outputs": [
    {
     "data": {
      "text/plain": [
       "True"
      ]
     },
     "execution_count": 27,
     "metadata": {},
     "output_type": "execute_result"
    }
   ],
   "source": [
    "14 in tupla"
   ]
  },
  {
   "cell_type": "markdown",
   "metadata": {},
   "source": [
    "**Ejercicio 7 Listas**\n",
    "\n",
    "Crear una lista con 40 elementos aleatorios enteros.\n",
    "\n",
    "Con una funcion (def) crear dos listas nuevas a partir de la lista creada por numeros aleatorios, en la cual en una esten los elementos pares, y en la otra los elementos impares.\n",
    "\n",
    "Crear dos variables con la longitud de ambas listas nuevas e imprimir las variables.\n",
    "\n",
    "Ordenar los elementos de la lista par de mayor a menor, y los de la lista impar de menor a mayor.\n",
    "\n",
    "Utilizar al menos cuatro de las funciones de listas en python en la lista original de 40 elementos."
   ]
  },
  {
   "cell_type": "code",
   "execution_count": 29,
   "metadata": {},
   "outputs": [
    {
     "name": "stdout",
     "output_type": "stream",
     "text": [
      "[66, 93, 69, 56, 21, 78, 16, 51, 23, 91, 1, 18, 99, 19, 21, 90, 35, 28, 22, 50, 47, 68, 3, 53, 29, 91, 88, 51, 64, 91, 75, 67, 91, 21, 58, 71, 33, 85, 53, 52]\n"
     ]
    }
   ],
   "source": [
    "import random as aleatorio\n",
    "lista2=[]\n",
    "for i in range(1, 41):\n",
    "        lista2.append(aleatorio.randint(1,100))\n",
    "print (lista2)"
   ]
  },
  {
   "cell_type": "code",
   "execution_count": 36,
   "metadata": {},
   "outputs": [
    {
     "name": "stdout",
     "output_type": "stream",
     "text": [
      "Lista par:  [66, 56, 78, 16, 18, 90, 28, 22, 50, 68, 88, 64, 58, 52]\n",
      "Lista impar:  [93, 69, 21, 51, 23, 91, 1, 99, 19, 21, 35, 47, 3, 53, 29, 91, 51, 91, 75, 67, 91, 21, 71, 33, 85, 53]\n"
     ]
    }
   ],
   "source": [
    "def partes(lista2):\n",
    "    par=[]\n",
    "    impar=[]\n",
    "    for i in range(len(lista2)):\n",
    "        if lista2[i]%2==0:\n",
    "            par.append(lista2[i])\n",
    "        else:\n",
    "            impar.append(lista2[i])\n",
    "    return par, impar\n",
    "par, impar=partes(lista2)\n",
    "print(\"Lista par: \", par)\n",
    "print(\"Lista impar: \", impar)\n"
   ]
  },
  {
   "cell_type": "code",
   "execution_count": 37,
   "metadata": {},
   "outputs": [
    {
     "name": "stdout",
     "output_type": "stream",
     "text": [
      "Longitud:\n",
      "Par= 14\n",
      "Impar= 26\n"
     ]
    }
   ],
   "source": [
    "long_par=len(par)\n",
    "long_impar=len(impar)\n",
    "print(\"Longitud:\")\n",
    "print(\"Par=\", long_par)\n",
    "print(\"Impar=\",long_impar)"
   ]
  },
  {
   "cell_type": "code",
   "execution_count": 40,
   "metadata": {},
   "outputs": [
    {
     "name": "stdout",
     "output_type": "stream",
     "text": [
      "Pares= [90, 88, 78, 68, 66, 64, 58, 56, 52, 50, 28, 22, 18, 16]\n",
      "Impares= [1, 3, 19, 21, 21, 21, 23, 29, 33, 35, 47, 51, 51, 53, 53, 67, 69, 71, 75, 85, 91, 91, 91, 91, 93, 99]\n"
     ]
    }
   ],
   "source": [
    "#https://likegeeks.com/es/funciones-de-listas-de-python/\n",
    "par.sort(reverse=True)\n",
    "impar.sort()\n",
    "print(\"Par=\", par)\n",
    "print(\"Impar=\",impar)"
   ]
  },
  {
   "cell_type": "code",
   "execution_count": 2,
   "metadata": {},
   "outputs": [
    {
     "name": "stdout",
     "output_type": "stream",
     "text": [
      "[5, 4, 3, 2, 1]\n"
     ]
    }
   ],
   "source": [
    "#https://likegeeks.com/es/funciones-de-listas-de-python/\n",
    "listareves = [1, 2, 3, 4, 5]\n",
    "listareves.reverse()\n",
    "print(listareves)"
   ]
  },
  {
   "cell_type": "code",
   "execution_count": 10,
   "metadata": {},
   "outputs": [
    {
     "name": "stdout",
     "output_type": "stream",
     "text": [
      "['hola', 'soy', 'Arleth']\n",
      "nombre\n"
     ]
    }
   ],
   "source": [
    "#https://likegeeks.com/es/funciones-de-listas-de-python/\n",
    "listadelete= ['hola', 'soy', 'nombre', 'Arleth']\n",
    "removed = listadelete.pop(2)\n",
    "print(listadelete)\n",
    "print(removed)"
   ]
  },
  {
   "cell_type": "code",
   "execution_count": 9,
   "metadata": {},
   "outputs": [
    {
     "name": "stdout",
     "output_type": "stream",
     "text": [
      "Hola me llamo Arleth\n"
     ]
    }
   ],
   "source": [
    "#https://likegeeks.com/es/funciones-de-listas-de-python/\n",
    "concat = ['Hola', 'me', 'llamo', 'Arleth']\n",
    "delimiter = ' '\n",
    "output = delimiter.join(concat)\n",
    "print(output)"
   ]
  },
  {
   "cell_type": "code",
   "execution_count": 12,
   "metadata": {},
   "outputs": [
    {
     "name": "stdout",
     "output_type": "stream",
     "text": [
      "['a', 'e', 'i', 'o', 'u']\n"
     ]
    }
   ],
   "source": [
    "orden = ['i', 'u', 'e', 'o', 'a']\n",
    "orden2 = [3, 5, 2, 4, 1]\n",
    "orden.sort()\n",
    "orden2.sort()\n",
    "print(orden)"
   ]
  },
  {
   "cell_type": "markdown",
   "metadata": {},
   "source": [
    "**Ejercicio 8 Diccionarios**\n",
    "\n",
    "Crear un diccionario de 6 personas que conozcas con su primer nombre y su edad.\n",
    "\n",
    "Crear una lista con los valores de la edad y reacomodar la lista de menor a mayor valor.\n",
    "\n",
    "Usando el diccionario y un loop, imprimir solo los nombres.\n",
    "\n",
    "Añadir dos personas nuevas a tu diccionario, incluyendo edad."
   ]
  },
  {
   "cell_type": "code",
   "execution_count": 42,
   "metadata": {},
   "outputs": [
    {
     "data": {
      "text/plain": [
       "{'Alma': 23,\n",
       " 'Valeria': 20,\n",
       " 'Andrea': 20,\n",
       " 'Ayde': 19,\n",
       " 'Iliana': 20,\n",
       " 'Marifer': 18}"
      ]
     },
     "execution_count": 42,
     "metadata": {},
     "output_type": "execute_result"
    }
   ],
   "source": [
    "diccionario= {\"Alma\":23, \"Valeria\":20, \"Andrea\":20, \"Ayde\":19, \"Iliana\":20, \"Marifer\":18}\n",
    "diccionario"
   ]
  },
  {
   "cell_type": "code",
   "execution_count": 43,
   "metadata": {},
   "outputs": [
    {
     "name": "stdout",
     "output_type": "stream",
     "text": [
      "[18, 19, 20, 20, 20, 23]\n"
     ]
    }
   ],
   "source": [
    "edad=[i for i in diccionario.values()]\n",
    "edad.sort()\n",
    "print(edad)"
   ]
  },
  {
   "cell_type": "code",
   "execution_count": 44,
   "metadata": {},
   "outputs": [
    {
     "name": "stdout",
     "output_type": "stream",
     "text": [
      "Alma\n",
      "Valeria\n",
      "Andrea\n",
      "Ayde\n",
      "Iliana\n",
      "Marifer\n"
     ]
    }
   ],
   "source": [
    "for i in diccionario:\n",
    "    print(i)"
   ]
  },
  {
   "cell_type": "code",
   "execution_count": 45,
   "metadata": {},
   "outputs": [
    {
     "data": {
      "text/plain": [
       "{'Alma': 23,\n",
       " 'Valeria': 20,\n",
       " 'Andrea': 20,\n",
       " 'Ayde': 19,\n",
       " 'Iliana': 20,\n",
       " 'Marifer': 18,\n",
       " 'Bere': 20,\n",
       " 'Gemma': 21}"
      ]
     },
     "execution_count": 45,
     "metadata": {},
     "output_type": "execute_result"
    }
   ],
   "source": [
    "diccionario[\"Bere\"]=20\n",
    "diccionario[\"Gemma\"]=21\n",
    "diccionario"
   ]
  },
  {
   "cell_type": "markdown",
   "metadata": {},
   "source": [
    "**Ejercicio 9 Sets**\n",
    "\n",
    "Crea un set con 100 numeros aleatorios enteros del 1 al 25.\n",
    "\n",
    "Comprueba la longitud de tu set.\n",
    "\n",
    "Crea una lista de 5 numeros aleatorios del 1 al 10 y comprueba si cada valor aparece en el set inicial."
   ]
  },
  {
   "cell_type": "code",
   "execution_count": 78,
   "metadata": {},
   "outputs": [
    {
     "name": "stdout",
     "output_type": "stream",
     "text": [
      "[17, 10, 11, 18, 1, 19, 20, 15, 11, 16, 10, 7, 8, 5, 15, 24, 9, 21, 6, 16, 11, 13, 7, 17, 17, 15, 12, 9, 20, 5, 5, 14, 18, 22, 6, 8, 16, 25, 9, 23, 22, 1, 21, 4, 10, 14, 24, 3, 9, 2, 2, 20, 8, 20, 17, 22, 17, 10, 22, 20, 25, 24, 18, 18, 17, 19, 2, 11, 19, 17, 14, 8, 15, 5, 11, 17, 8, 2, 22, 1, 25, 18, 22, 6, 12, 16, 15, 21, 1, 20, 24, 1, 20, 16, 17, 14, 17, 8, 23, 3]\n"
     ]
    }
   ],
   "source": [
    "set1=[]\n",
    "for i in range(1, 101):\n",
    "        set1.append(aleatorio.randint(1,25))\n",
    "print (set1)\n"
   ]
  },
  {
   "cell_type": "code",
   "execution_count": 79,
   "metadata": {},
   "outputs": [
    {
     "data": {
      "text/plain": [
       "100"
      ]
     },
     "execution_count": 79,
     "metadata": {},
     "output_type": "execute_result"
    }
   ],
   "source": [
    "lon_set=len(set1)\n",
    "lon_set"
   ]
  },
  {
   "cell_type": "code",
   "execution_count": 91,
   "metadata": {},
   "outputs": [
    {
     "name": "stdout",
     "output_type": "stream",
     "text": [
      "[6, 10, 6, 9, 3]\n",
      "6 si esta en el set inicial\n",
      "10 si esta en el set inicial\n",
      "6 si esta en el set inicial\n",
      "9 si esta en el set inicial\n",
      "3 si esta en el set inicial\n"
     ]
    }
   ],
   "source": [
    "listaset1=[]\n",
    "for i in range (1,6):\n",
    "    listaset1.append(aleatorio.randint(1,10))\n",
    "print(listaset1)\n",
    "\n",
    "for i in range(5):\n",
    "    if listaset1[i] in set1:\n",
    "         print(listaset1[i],\"si esta en el set inicial\")\n",
    "    else:\n",
    "        print(listaset1[i],\"no esta en el set inicial\")"
   ]
  },
  {
   "cell_type": "code",
   "execution_count": null,
   "metadata": {},
   "outputs": [],
   "source": []
  }
 ],
 "metadata": {
  "kernelspec": {
   "display_name": "Python 3",
   "language": "python",
   "name": "python3"
  },
  "language_info": {
   "codemirror_mode": {
    "name": "ipython",
    "version": 3
   },
   "file_extension": ".py",
   "mimetype": "text/x-python",
   "name": "python",
   "nbconvert_exporter": "python",
   "pygments_lexer": "ipython3",
   "version": "3.8.3"
  }
 },
 "nbformat": 4,
 "nbformat_minor": 4
}
